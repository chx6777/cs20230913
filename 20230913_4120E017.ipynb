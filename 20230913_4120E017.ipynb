{
  "nbformat": 4,
  "nbformat_minor": 0,
  "metadata": {
    "colab": {
      "provenance": []
    },
    "kernelspec": {
      "name": "python3",
      "display_name": "Python 3"
    },
    "language_info": {
      "name": "python"
    }
  },
  "cells": [
    {
      "cell_type": "code",
      "execution_count": 3,
      "metadata": {
        "id": "Mzy8IIjVjZKi",
        "colab": {
          "base_uri": "https://localhost:8080/"
        },
        "outputId": "f14918e7-0564-49cf-a766-b96e231422a3"
      },
      "outputs": [
        {
          "output_type": "execute_result",
          "data": {
            "text/plain": [
              "47052721287394587764057094854672253553918218437190874778408030747195017485692977810906266281547645147"
            ]
          },
          "metadata": {},
          "execution_count": 3
        }
      ],
      "source": [
        "3**211"
      ]
    }
  ]
}